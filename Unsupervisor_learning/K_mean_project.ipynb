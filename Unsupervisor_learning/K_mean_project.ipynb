{
 "cells": [
  {
   "cell_type": "markdown",
   "metadata": {},
   "source": [
    "# this project is about clustering \n",
    "In thes project we hava The San Francisco Controller's Office maintains a database of the salary and benefits\n",
    "\n",
    "paid to City employees since fiscal year 2013. the idea is to use the K_mean to solve the problem."
   ]
  },
  {
   "cell_type": "code",
   "execution_count": 2,
   "metadata": {},
   "outputs": [],
   "source": [
    "# Let's import all librires that we need for this project\n"
   ]
  },
  {
   "cell_type": "code",
   "execution_count": 1,
   "metadata": {},
   "outputs": [],
   "source": [
    "import pandas as pd\n",
    "import numpy as np\n",
    "import seaborn as sns\n",
    "import matplotlib.pyplot as plt \n",
    "%matplotlib inline "
   ]
  },
  {
   "cell_type": "code",
   "execution_count": 2,
   "metadata": {},
   "outputs": [],
   "source": [
    "# import the data\n",
    "data=pd.read_csv(\"C:\\\\Users\\\\marce\\\\OneDrive\\\\Ambiente de Trabalho\\\\DataScience\\\\Unsupervisor_learning\\\\Clustering\\\\employee-compensation.csv\")"
   ]
  },
  {
   "cell_type": "code",
   "execution_count": 3,
   "metadata": {},
   "outputs": [
    {
     "data": {
      "text/html": [
       "<div>\n",
       "<style scoped>\n",
       "    .dataframe tbody tr th:only-of-type {\n",
       "        vertical-align: middle;\n",
       "    }\n",
       "\n",
       "    .dataframe tbody tr th {\n",
       "        vertical-align: top;\n",
       "    }\n",
       "\n",
       "    .dataframe thead th {\n",
       "        text-align: right;\n",
       "    }\n",
       "</style>\n",
       "<table border=\"1\" class=\"dataframe\">\n",
       "  <thead>\n",
       "    <tr style=\"text-align: right;\">\n",
       "      <th></th>\n",
       "      <th>Organization Group Code</th>\n",
       "      <th>Job Family Code</th>\n",
       "      <th>Job Code</th>\n",
       "      <th>Year Type</th>\n",
       "      <th>Year</th>\n",
       "      <th>Organization Group</th>\n",
       "      <th>Department Code</th>\n",
       "      <th>Department</th>\n",
       "      <th>Union Code</th>\n",
       "      <th>Union</th>\n",
       "      <th>...</th>\n",
       "      <th>Employee Identifier</th>\n",
       "      <th>Salaries</th>\n",
       "      <th>Overtime</th>\n",
       "      <th>Other Salaries</th>\n",
       "      <th>Total Salary</th>\n",
       "      <th>Retirement</th>\n",
       "      <th>Health and Dental</th>\n",
       "      <th>Other Benefits</th>\n",
       "      <th>Total Benefits</th>\n",
       "      <th>Total Compensation</th>\n",
       "    </tr>\n",
       "  </thead>\n",
       "  <tbody>\n",
       "    <tr>\n",
       "      <th>0</th>\n",
       "      <td>1</td>\n",
       "      <td>1000</td>\n",
       "      <td>1021</td>\n",
       "      <td>Calendar</td>\n",
       "      <td>2013</td>\n",
       "      <td>Public Protection</td>\n",
       "      <td>ADP</td>\n",
       "      <td>ADP Adult Probation</td>\n",
       "      <td>21.0</td>\n",
       "      <td>Prof &amp; Tech Engineers - Miscellaneous, Local 21</td>\n",
       "      <td>...</td>\n",
       "      <td>37730</td>\n",
       "      <td>57534.65</td>\n",
       "      <td>0.0</td>\n",
       "      <td>0.00</td>\n",
       "      <td>57534.65</td>\n",
       "      <td>11253.16</td>\n",
       "      <td>11961.34</td>\n",
       "      <td>4532.63</td>\n",
       "      <td>27747.13</td>\n",
       "      <td>85281.78</td>\n",
       "    </tr>\n",
       "    <tr>\n",
       "      <th>1</th>\n",
       "      <td>1</td>\n",
       "      <td>1000</td>\n",
       "      <td>1023</td>\n",
       "      <td>Calendar</td>\n",
       "      <td>2013</td>\n",
       "      <td>Public Protection</td>\n",
       "      <td>ADP</td>\n",
       "      <td>ADP Adult Probation</td>\n",
       "      <td>21.0</td>\n",
       "      <td>Prof &amp; Tech Engineers - Miscellaneous, Local 21</td>\n",
       "      <td>...</td>\n",
       "      <td>26574</td>\n",
       "      <td>57678.50</td>\n",
       "      <td>0.0</td>\n",
       "      <td>0.00</td>\n",
       "      <td>57678.50</td>\n",
       "      <td>10284.88</td>\n",
       "      <td>7176.80</td>\n",
       "      <td>4755.14</td>\n",
       "      <td>22216.82</td>\n",
       "      <td>79895.32</td>\n",
       "    </tr>\n",
       "    <tr>\n",
       "      <th>2</th>\n",
       "      <td>1</td>\n",
       "      <td>1000</td>\n",
       "      <td>1031</td>\n",
       "      <td>Calendar</td>\n",
       "      <td>2013</td>\n",
       "      <td>Public Protection</td>\n",
       "      <td>ADP</td>\n",
       "      <td>ADP Adult Probation</td>\n",
       "      <td>21.0</td>\n",
       "      <td>Prof &amp; Tech Engineers - Miscellaneous, Local 21</td>\n",
       "      <td>...</td>\n",
       "      <td>8148</td>\n",
       "      <td>63532.93</td>\n",
       "      <td>0.0</td>\n",
       "      <td>0.00</td>\n",
       "      <td>63532.93</td>\n",
       "      <td>12495.83</td>\n",
       "      <td>12918.24</td>\n",
       "      <td>4702.71</td>\n",
       "      <td>30116.78</td>\n",
       "      <td>93649.71</td>\n",
       "    </tr>\n",
       "    <tr>\n",
       "      <th>3</th>\n",
       "      <td>1</td>\n",
       "      <td>1000</td>\n",
       "      <td>1054</td>\n",
       "      <td>Calendar</td>\n",
       "      <td>2013</td>\n",
       "      <td>Public Protection</td>\n",
       "      <td>ADP</td>\n",
       "      <td>ADP Adult Probation</td>\n",
       "      <td>21.0</td>\n",
       "      <td>Prof &amp; Tech Engineers - Miscellaneous, Local 21</td>\n",
       "      <td>...</td>\n",
       "      <td>27436</td>\n",
       "      <td>101274.51</td>\n",
       "      <td>0.0</td>\n",
       "      <td>-7058.59</td>\n",
       "      <td>94215.92</td>\n",
       "      <td>19644.45</td>\n",
       "      <td>12918.24</td>\n",
       "      <td>7458.76</td>\n",
       "      <td>40021.45</td>\n",
       "      <td>134237.37</td>\n",
       "    </tr>\n",
       "    <tr>\n",
       "      <th>4</th>\n",
       "      <td>1</td>\n",
       "      <td>1000</td>\n",
       "      <td>1062</td>\n",
       "      <td>Calendar</td>\n",
       "      <td>2013</td>\n",
       "      <td>Public Protection</td>\n",
       "      <td>ADP</td>\n",
       "      <td>ADP Adult Probation</td>\n",
       "      <td>21.0</td>\n",
       "      <td>Prof &amp; Tech Engineers - Miscellaneous, Local 21</td>\n",
       "      <td>...</td>\n",
       "      <td>37730</td>\n",
       "      <td>5084.00</td>\n",
       "      <td>0.0</td>\n",
       "      <td>0.00</td>\n",
       "      <td>5084.00</td>\n",
       "      <td>1083.90</td>\n",
       "      <td>956.91</td>\n",
       "      <td>387.50</td>\n",
       "      <td>2428.31</td>\n",
       "      <td>7512.31</td>\n",
       "    </tr>\n",
       "    <tr>\n",
       "      <th>...</th>\n",
       "      <td>...</td>\n",
       "      <td>...</td>\n",
       "      <td>...</td>\n",
       "      <td>...</td>\n",
       "      <td>...</td>\n",
       "      <td>...</td>\n",
       "      <td>...</td>\n",
       "      <td>...</td>\n",
       "      <td>...</td>\n",
       "      <td>...</td>\n",
       "      <td>...</td>\n",
       "      <td>...</td>\n",
       "      <td>...</td>\n",
       "      <td>...</td>\n",
       "      <td>...</td>\n",
       "      <td>...</td>\n",
       "      <td>...</td>\n",
       "      <td>...</td>\n",
       "      <td>...</td>\n",
       "      <td>...</td>\n",
       "      <td>...</td>\n",
       "    </tr>\n",
       "    <tr>\n",
       "      <th>683272</th>\n",
       "      <td>6</td>\n",
       "      <td>4300</td>\n",
       "      <td>4334</td>\n",
       "      <td>Fiscal</td>\n",
       "      <td>2020</td>\n",
       "      <td>General Administration &amp; Finance</td>\n",
       "      <td>TTX</td>\n",
       "      <td>Treasurer/Tax Collector</td>\n",
       "      <td>790.0</td>\n",
       "      <td>SEIU, Local 1021, Misc</td>\n",
       "      <td>...</td>\n",
       "      <td>43836214</td>\n",
       "      <td>98444.94</td>\n",
       "      <td>0.0</td>\n",
       "      <td>0.00</td>\n",
       "      <td>98444.94</td>\n",
       "      <td>20540.24</td>\n",
       "      <td>15275.18</td>\n",
       "      <td>8019.49</td>\n",
       "      <td>43834.91</td>\n",
       "      <td>142279.85</td>\n",
       "    </tr>\n",
       "    <tr>\n",
       "      <th>683273</th>\n",
       "      <td>6</td>\n",
       "      <td>4300</td>\n",
       "      <td>4334</td>\n",
       "      <td>Fiscal</td>\n",
       "      <td>2020</td>\n",
       "      <td>General Administration &amp; Finance</td>\n",
       "      <td>TTX</td>\n",
       "      <td>Treasurer/Tax Collector</td>\n",
       "      <td>790.0</td>\n",
       "      <td>SEIU, Local 1021, Misc</td>\n",
       "      <td>...</td>\n",
       "      <td>43966403</td>\n",
       "      <td>9416.71</td>\n",
       "      <td>0.0</td>\n",
       "      <td>0.00</td>\n",
       "      <td>9416.71</td>\n",
       "      <td>1904.43</td>\n",
       "      <td>1468.77</td>\n",
       "      <td>743.51</td>\n",
       "      <td>4116.71</td>\n",
       "      <td>13533.42</td>\n",
       "    </tr>\n",
       "    <tr>\n",
       "      <th>683274</th>\n",
       "      <td>6</td>\n",
       "      <td>4300</td>\n",
       "      <td>4334</td>\n",
       "      <td>Fiscal</td>\n",
       "      <td>2020</td>\n",
       "      <td>General Administration &amp; Finance</td>\n",
       "      <td>TTX</td>\n",
       "      <td>Treasurer/Tax Collector</td>\n",
       "      <td>790.0</td>\n",
       "      <td>SEIU, Local 1021, Misc</td>\n",
       "      <td>...</td>\n",
       "      <td>44016180</td>\n",
       "      <td>96475.00</td>\n",
       "      <td>0.0</td>\n",
       "      <td>576.00</td>\n",
       "      <td>97051.00</td>\n",
       "      <td>20241.56</td>\n",
       "      <td>14100.16</td>\n",
       "      <td>7897.00</td>\n",
       "      <td>42238.72</td>\n",
       "      <td>139289.72</td>\n",
       "    </tr>\n",
       "    <tr>\n",
       "      <th>683275</th>\n",
       "      <td>6</td>\n",
       "      <td>4300</td>\n",
       "      <td>4337</td>\n",
       "      <td>Fiscal</td>\n",
       "      <td>2020</td>\n",
       "      <td>General Administration &amp; Finance</td>\n",
       "      <td>TTX</td>\n",
       "      <td>Treasurer/Tax Collector</td>\n",
       "      <td>790.0</td>\n",
       "      <td>SEIU, Local 1021, Misc</td>\n",
       "      <td>...</td>\n",
       "      <td>42423439</td>\n",
       "      <td>115943.00</td>\n",
       "      <td>0.0</td>\n",
       "      <td>0.00</td>\n",
       "      <td>115943.00</td>\n",
       "      <td>24188.37</td>\n",
       "      <td>15275.18</td>\n",
       "      <td>9018.34</td>\n",
       "      <td>48481.89</td>\n",
       "      <td>164424.89</td>\n",
       "    </tr>\n",
       "    <tr>\n",
       "      <th>683276</th>\n",
       "      <td>6</td>\n",
       "      <td>4300</td>\n",
       "      <td>4337</td>\n",
       "      <td>Fiscal</td>\n",
       "      <td>2020</td>\n",
       "      <td>General Administration &amp; Finance</td>\n",
       "      <td>TTX</td>\n",
       "      <td>Treasurer/Tax Collector</td>\n",
       "      <td>790.0</td>\n",
       "      <td>SEIU, Local 1021, Misc</td>\n",
       "      <td>...</td>\n",
       "      <td>42439576</td>\n",
       "      <td>115943.00</td>\n",
       "      <td>504.9</td>\n",
       "      <td>0.00</td>\n",
       "      <td>116447.90</td>\n",
       "      <td>24188.37</td>\n",
       "      <td>15275.18</td>\n",
       "      <td>9516.61</td>\n",
       "      <td>48980.16</td>\n",
       "      <td>165428.06</td>\n",
       "    </tr>\n",
       "  </tbody>\n",
       "</table>\n",
       "<p>683277 rows × 22 columns</p>\n",
       "</div>"
      ],
      "text/plain": [
       "        Organization Group Code Job Family Code Job Code Year Type  Year  \\\n",
       "0                             1            1000     1021  Calendar  2013   \n",
       "1                             1            1000     1023  Calendar  2013   \n",
       "2                             1            1000     1031  Calendar  2013   \n",
       "3                             1            1000     1054  Calendar  2013   \n",
       "4                             1            1000     1062  Calendar  2013   \n",
       "...                         ...             ...      ...       ...   ...   \n",
       "683272                        6            4300     4334    Fiscal  2020   \n",
       "683273                        6            4300     4334    Fiscal  2020   \n",
       "683274                        6            4300     4334    Fiscal  2020   \n",
       "683275                        6            4300     4337    Fiscal  2020   \n",
       "683276                        6            4300     4337    Fiscal  2020   \n",
       "\n",
       "                      Organization Group Department Code  \\\n",
       "0                      Public Protection             ADP   \n",
       "1                      Public Protection             ADP   \n",
       "2                      Public Protection             ADP   \n",
       "3                      Public Protection             ADP   \n",
       "4                      Public Protection             ADP   \n",
       "...                                  ...             ...   \n",
       "683272  General Administration & Finance             TTX   \n",
       "683273  General Administration & Finance             TTX   \n",
       "683274  General Administration & Finance             TTX   \n",
       "683275  General Administration & Finance             TTX   \n",
       "683276  General Administration & Finance             TTX   \n",
       "\n",
       "                     Department  Union Code  \\\n",
       "0           ADP Adult Probation        21.0   \n",
       "1           ADP Adult Probation        21.0   \n",
       "2           ADP Adult Probation        21.0   \n",
       "3           ADP Adult Probation        21.0   \n",
       "4           ADP Adult Probation        21.0   \n",
       "...                         ...         ...   \n",
       "683272  Treasurer/Tax Collector       790.0   \n",
       "683273  Treasurer/Tax Collector       790.0   \n",
       "683274  Treasurer/Tax Collector       790.0   \n",
       "683275  Treasurer/Tax Collector       790.0   \n",
       "683276  Treasurer/Tax Collector       790.0   \n",
       "\n",
       "                                                  Union  ...  \\\n",
       "0       Prof & Tech Engineers - Miscellaneous, Local 21  ...   \n",
       "1       Prof & Tech Engineers - Miscellaneous, Local 21  ...   \n",
       "2       Prof & Tech Engineers - Miscellaneous, Local 21  ...   \n",
       "3       Prof & Tech Engineers - Miscellaneous, Local 21  ...   \n",
       "4       Prof & Tech Engineers - Miscellaneous, Local 21  ...   \n",
       "...                                                 ...  ...   \n",
       "683272                           SEIU, Local 1021, Misc  ...   \n",
       "683273                           SEIU, Local 1021, Misc  ...   \n",
       "683274                           SEIU, Local 1021, Misc  ...   \n",
       "683275                           SEIU, Local 1021, Misc  ...   \n",
       "683276                           SEIU, Local 1021, Misc  ...   \n",
       "\n",
       "       Employee Identifier   Salaries  Overtime  Other Salaries  Total Salary  \\\n",
       "0                    37730   57534.65       0.0            0.00      57534.65   \n",
       "1                    26574   57678.50       0.0            0.00      57678.50   \n",
       "2                     8148   63532.93       0.0            0.00      63532.93   \n",
       "3                    27436  101274.51       0.0        -7058.59      94215.92   \n",
       "4                    37730    5084.00       0.0            0.00       5084.00   \n",
       "...                    ...        ...       ...             ...           ...   \n",
       "683272            43836214   98444.94       0.0            0.00      98444.94   \n",
       "683273            43966403    9416.71       0.0            0.00       9416.71   \n",
       "683274            44016180   96475.00       0.0          576.00      97051.00   \n",
       "683275            42423439  115943.00       0.0            0.00     115943.00   \n",
       "683276            42439576  115943.00     504.9            0.00     116447.90   \n",
       "\n",
       "        Retirement  Health and Dental  Other Benefits  Total Benefits  \\\n",
       "0         11253.16           11961.34         4532.63        27747.13   \n",
       "1         10284.88            7176.80         4755.14        22216.82   \n",
       "2         12495.83           12918.24         4702.71        30116.78   \n",
       "3         19644.45           12918.24         7458.76        40021.45   \n",
       "4          1083.90             956.91          387.50         2428.31   \n",
       "...            ...                ...             ...             ...   \n",
       "683272    20540.24           15275.18         8019.49        43834.91   \n",
       "683273     1904.43            1468.77          743.51         4116.71   \n",
       "683274    20241.56           14100.16         7897.00        42238.72   \n",
       "683275    24188.37           15275.18         9018.34        48481.89   \n",
       "683276    24188.37           15275.18         9516.61        48980.16   \n",
       "\n",
       "        Total Compensation  \n",
       "0                 85281.78  \n",
       "1                 79895.32  \n",
       "2                 93649.71  \n",
       "3                134237.37  \n",
       "4                  7512.31  \n",
       "...                    ...  \n",
       "683272           142279.85  \n",
       "683273            13533.42  \n",
       "683274           139289.72  \n",
       "683275           164424.89  \n",
       "683276           165428.06  \n",
       "\n",
       "[683277 rows x 22 columns]"
      ]
     },
     "execution_count": 3,
     "metadata": {},
     "output_type": "execute_result"
    }
   ],
   "source": [
    "data"
   ]
  },
  {
   "cell_type": "code",
   "execution_count": 4,
   "metadata": {},
   "outputs": [],
   "source": [
    "# as we can see, we have 683277 row and 22 column "
   ]
  },
  {
   "cell_type": "code",
   "execution_count": 5,
   "metadata": {},
   "outputs": [
    {
     "data": {
      "text/plain": [
       "(683277, 22)"
      ]
     },
     "execution_count": 5,
     "metadata": {},
     "output_type": "execute_result"
    }
   ],
   "source": [
    "data.shape"
   ]
  },
  {
   "cell_type": "code",
   "execution_count": 6,
   "metadata": {},
   "outputs": [
    {
     "name": "stdout",
     "output_type": "stream",
     "text": [
      "<class 'pandas.core.frame.DataFrame'>\n",
      "RangeIndex: 683277 entries, 0 to 683276\n",
      "Data columns (total 22 columns):\n",
      " #   Column                   Non-Null Count   Dtype  \n",
      "---  ------                   --------------   -----  \n",
      " 0   Organization Group Code  683277 non-null  int64  \n",
      " 1   Job Family Code          683277 non-null  object \n",
      " 2   Job Code                 683277 non-null  object \n",
      " 3   Year Type                683277 non-null  object \n",
      " 4   Year                     683277 non-null  int64  \n",
      " 5   Organization Group       683277 non-null  object \n",
      " 6   Department Code          683275 non-null  object \n",
      " 7   Department               683275 non-null  object \n",
      " 8   Union Code               682926 non-null  float64\n",
      " 9   Union                    682926 non-null  object \n",
      " 10  Job Family               683277 non-null  object \n",
      " 11  Job                      683272 non-null  object \n",
      " 12  Employee Identifier      683277 non-null  int64  \n",
      " 13  Salaries                 683277 non-null  float64\n",
      " 14  Overtime                 683277 non-null  float64\n",
      " 15  Other Salaries           683277 non-null  float64\n",
      " 16  Total Salary             683277 non-null  float64\n",
      " 17  Retirement               683277 non-null  float64\n",
      " 18  Health and Dental        683277 non-null  float64\n",
      " 19  Other Benefits           683277 non-null  float64\n",
      " 20  Total Benefits           683277 non-null  float64\n",
      " 21  Total Compensation       683277 non-null  float64\n",
      "dtypes: float64(10), int64(3), object(9)\n",
      "memory usage: 114.7+ MB\n"
     ]
    }
   ],
   "source": [
    "data.info()"
   ]
  },
  {
   "cell_type": "markdown",
   "metadata": {},
   "source": [
    "# Do you need to reduce the number of columns?"
   ]
  },
  {
   "cell_type": "code",
   "execution_count": 7,
   "metadata": {},
   "outputs": [
    {
     "data": {
      "text/html": [
       "<div>\n",
       "<style scoped>\n",
       "    .dataframe tbody tr th:only-of-type {\n",
       "        vertical-align: middle;\n",
       "    }\n",
       "\n",
       "    .dataframe tbody tr th {\n",
       "        vertical-align: top;\n",
       "    }\n",
       "\n",
       "    .dataframe thead th {\n",
       "        text-align: right;\n",
       "    }\n",
       "</style>\n",
       "<table border=\"1\" class=\"dataframe\">\n",
       "  <thead>\n",
       "    <tr style=\"text-align: right;\">\n",
       "      <th></th>\n",
       "      <th>Organization Group Code</th>\n",
       "      <th>Job Family Code</th>\n",
       "      <th>Job Code</th>\n",
       "      <th>Year Type</th>\n",
       "      <th>Year</th>\n",
       "      <th>Organization Group</th>\n",
       "      <th>Department Code</th>\n",
       "      <th>Department</th>\n",
       "      <th>Union Code</th>\n",
       "      <th>Union</th>\n",
       "      <th>...</th>\n",
       "      <th>Employee Identifier</th>\n",
       "      <th>Salaries</th>\n",
       "      <th>Overtime</th>\n",
       "      <th>Other Salaries</th>\n",
       "      <th>Total Salary</th>\n",
       "      <th>Retirement</th>\n",
       "      <th>Health and Dental</th>\n",
       "      <th>Other Benefits</th>\n",
       "      <th>Total Benefits</th>\n",
       "      <th>Total Compensation</th>\n",
       "    </tr>\n",
       "  </thead>\n",
       "  <tbody>\n",
       "    <tr>\n",
       "      <th>0</th>\n",
       "      <td>1</td>\n",
       "      <td>1000</td>\n",
       "      <td>1021</td>\n",
       "      <td>Calendar</td>\n",
       "      <td>2013</td>\n",
       "      <td>Public Protection</td>\n",
       "      <td>ADP</td>\n",
       "      <td>ADP Adult Probation</td>\n",
       "      <td>21.0</td>\n",
       "      <td>Prof &amp; Tech Engineers - Miscellaneous, Local 21</td>\n",
       "      <td>...</td>\n",
       "      <td>37730</td>\n",
       "      <td>57534.65</td>\n",
       "      <td>0.0</td>\n",
       "      <td>0.00</td>\n",
       "      <td>57534.65</td>\n",
       "      <td>11253.16</td>\n",
       "      <td>11961.34</td>\n",
       "      <td>4532.63</td>\n",
       "      <td>27747.13</td>\n",
       "      <td>85281.78</td>\n",
       "    </tr>\n",
       "    <tr>\n",
       "      <th>1</th>\n",
       "      <td>1</td>\n",
       "      <td>1000</td>\n",
       "      <td>1023</td>\n",
       "      <td>Calendar</td>\n",
       "      <td>2013</td>\n",
       "      <td>Public Protection</td>\n",
       "      <td>ADP</td>\n",
       "      <td>ADP Adult Probation</td>\n",
       "      <td>21.0</td>\n",
       "      <td>Prof &amp; Tech Engineers - Miscellaneous, Local 21</td>\n",
       "      <td>...</td>\n",
       "      <td>26574</td>\n",
       "      <td>57678.50</td>\n",
       "      <td>0.0</td>\n",
       "      <td>0.00</td>\n",
       "      <td>57678.50</td>\n",
       "      <td>10284.88</td>\n",
       "      <td>7176.80</td>\n",
       "      <td>4755.14</td>\n",
       "      <td>22216.82</td>\n",
       "      <td>79895.32</td>\n",
       "    </tr>\n",
       "    <tr>\n",
       "      <th>2</th>\n",
       "      <td>1</td>\n",
       "      <td>1000</td>\n",
       "      <td>1031</td>\n",
       "      <td>Calendar</td>\n",
       "      <td>2013</td>\n",
       "      <td>Public Protection</td>\n",
       "      <td>ADP</td>\n",
       "      <td>ADP Adult Probation</td>\n",
       "      <td>21.0</td>\n",
       "      <td>Prof &amp; Tech Engineers - Miscellaneous, Local 21</td>\n",
       "      <td>...</td>\n",
       "      <td>8148</td>\n",
       "      <td>63532.93</td>\n",
       "      <td>0.0</td>\n",
       "      <td>0.00</td>\n",
       "      <td>63532.93</td>\n",
       "      <td>12495.83</td>\n",
       "      <td>12918.24</td>\n",
       "      <td>4702.71</td>\n",
       "      <td>30116.78</td>\n",
       "      <td>93649.71</td>\n",
       "    </tr>\n",
       "    <tr>\n",
       "      <th>3</th>\n",
       "      <td>1</td>\n",
       "      <td>1000</td>\n",
       "      <td>1054</td>\n",
       "      <td>Calendar</td>\n",
       "      <td>2013</td>\n",
       "      <td>Public Protection</td>\n",
       "      <td>ADP</td>\n",
       "      <td>ADP Adult Probation</td>\n",
       "      <td>21.0</td>\n",
       "      <td>Prof &amp; Tech Engineers - Miscellaneous, Local 21</td>\n",
       "      <td>...</td>\n",
       "      <td>27436</td>\n",
       "      <td>101274.51</td>\n",
       "      <td>0.0</td>\n",
       "      <td>-7058.59</td>\n",
       "      <td>94215.92</td>\n",
       "      <td>19644.45</td>\n",
       "      <td>12918.24</td>\n",
       "      <td>7458.76</td>\n",
       "      <td>40021.45</td>\n",
       "      <td>134237.37</td>\n",
       "    </tr>\n",
       "    <tr>\n",
       "      <th>4</th>\n",
       "      <td>1</td>\n",
       "      <td>1000</td>\n",
       "      <td>1062</td>\n",
       "      <td>Calendar</td>\n",
       "      <td>2013</td>\n",
       "      <td>Public Protection</td>\n",
       "      <td>ADP</td>\n",
       "      <td>ADP Adult Probation</td>\n",
       "      <td>21.0</td>\n",
       "      <td>Prof &amp; Tech Engineers - Miscellaneous, Local 21</td>\n",
       "      <td>...</td>\n",
       "      <td>37730</td>\n",
       "      <td>5084.00</td>\n",
       "      <td>0.0</td>\n",
       "      <td>0.00</td>\n",
       "      <td>5084.00</td>\n",
       "      <td>1083.90</td>\n",
       "      <td>956.91</td>\n",
       "      <td>387.50</td>\n",
       "      <td>2428.31</td>\n",
       "      <td>7512.31</td>\n",
       "    </tr>\n",
       "  </tbody>\n",
       "</table>\n",
       "<p>5 rows × 22 columns</p>\n",
       "</div>"
      ],
      "text/plain": [
       "   Organization Group Code Job Family Code Job Code Year Type  Year  \\\n",
       "0                        1            1000     1021  Calendar  2013   \n",
       "1                        1            1000     1023  Calendar  2013   \n",
       "2                        1            1000     1031  Calendar  2013   \n",
       "3                        1            1000     1054  Calendar  2013   \n",
       "4                        1            1000     1062  Calendar  2013   \n",
       "\n",
       "  Organization Group Department Code           Department  Union Code  \\\n",
       "0  Public Protection             ADP  ADP Adult Probation        21.0   \n",
       "1  Public Protection             ADP  ADP Adult Probation        21.0   \n",
       "2  Public Protection             ADP  ADP Adult Probation        21.0   \n",
       "3  Public Protection             ADP  ADP Adult Probation        21.0   \n",
       "4  Public Protection             ADP  ADP Adult Probation        21.0   \n",
       "\n",
       "                                             Union  ... Employee Identifier  \\\n",
       "0  Prof & Tech Engineers - Miscellaneous, Local 21  ...               37730   \n",
       "1  Prof & Tech Engineers - Miscellaneous, Local 21  ...               26574   \n",
       "2  Prof & Tech Engineers - Miscellaneous, Local 21  ...                8148   \n",
       "3  Prof & Tech Engineers - Miscellaneous, Local 21  ...               27436   \n",
       "4  Prof & Tech Engineers - Miscellaneous, Local 21  ...               37730   \n",
       "\n",
       "    Salaries  Overtime  Other Salaries  Total Salary  Retirement  \\\n",
       "0   57534.65       0.0            0.00      57534.65    11253.16   \n",
       "1   57678.50       0.0            0.00      57678.50    10284.88   \n",
       "2   63532.93       0.0            0.00      63532.93    12495.83   \n",
       "3  101274.51       0.0        -7058.59      94215.92    19644.45   \n",
       "4    5084.00       0.0            0.00       5084.00     1083.90   \n",
       "\n",
       "   Health and Dental  Other Benefits  Total Benefits  Total Compensation  \n",
       "0           11961.34         4532.63        27747.13            85281.78  \n",
       "1            7176.80         4755.14        22216.82            79895.32  \n",
       "2           12918.24         4702.71        30116.78            93649.71  \n",
       "3           12918.24         7458.76        40021.45           134237.37  \n",
       "4             956.91          387.50         2428.31             7512.31  \n",
       "\n",
       "[5 rows x 22 columns]"
      ]
     },
     "execution_count": 7,
     "metadata": {},
     "output_type": "execute_result"
    }
   ],
   "source": [
    "data.head()"
   ]
  },
  {
   "cell_type": "code",
   "execution_count": 8,
   "metadata": {},
   "outputs": [],
   "source": [
    "# We need to reduce the number of columns because some columns does not have impact in our analyses like\n",
    "# Organization Group Code  and others basically is a \"duplicate of columns\" like for example the total salary is a sum\n",
    "# of all salaries paid to City employees.So we can use the parcials salaries in our analyses \n",
    "# variable like Union, Employee Identifier... is just for get idea about our data and these will not have a big\n",
    "# impact in our analyses"
   ]
  },
  {
   "cell_type": "code",
   "execution_count": 9,
   "metadata": {},
   "outputs": [],
   "source": [
    "# check null value "
   ]
  },
  {
   "cell_type": "markdown",
   "metadata": {},
   "source": [
    "# Is your data clean?"
   ]
  },
  {
   "cell_type": "code",
   "execution_count": 10,
   "metadata": {},
   "outputs": [
    {
     "data": {
      "text/plain": [
       "Organization Group Code      0\n",
       "Job Family Code              0\n",
       "Job Code                     0\n",
       "Year Type                    0\n",
       "Year                         0\n",
       "Organization Group           0\n",
       "Department Code              2\n",
       "Department                   2\n",
       "Union Code                 351\n",
       "Union                      351\n",
       "Job Family                   0\n",
       "Job                          5\n",
       "Employee Identifier          0\n",
       "Salaries                     0\n",
       "Overtime                     0\n",
       "Other Salaries               0\n",
       "Total Salary                 0\n",
       "Retirement                   0\n",
       "Health and Dental            0\n",
       "Other Benefits               0\n",
       "Total Benefits               0\n",
       "Total Compensation           0\n",
       "dtype: int64"
      ]
     },
     "execution_count": 10,
     "metadata": {},
     "output_type": "execute_result"
    }
   ],
   "source": [
    "data.isnull().sum()"
   ]
  },
  {
   "cell_type": "code",
   "execution_count": 11,
   "metadata": {},
   "outputs": [],
   "source": [
    "# as we can see Our data is not cleaning , we have null value in Department Code ,Department,Union Code,Union  and job\n",
    "# visualize the null column.\n"
   ]
  },
  {
   "cell_type": "code",
   "execution_count": 12,
   "metadata": {},
   "outputs": [
    {
     "data": {
      "text/html": [
       "<div>\n",
       "<style scoped>\n",
       "    .dataframe tbody tr th:only-of-type {\n",
       "        vertical-align: middle;\n",
       "    }\n",
       "\n",
       "    .dataframe tbody tr th {\n",
       "        vertical-align: top;\n",
       "    }\n",
       "\n",
       "    .dataframe thead th {\n",
       "        text-align: right;\n",
       "    }\n",
       "</style>\n",
       "<table border=\"1\" class=\"dataframe\">\n",
       "  <thead>\n",
       "    <tr style=\"text-align: right;\">\n",
       "      <th></th>\n",
       "      <th>Organization Group Code</th>\n",
       "      <th>Job Family Code</th>\n",
       "      <th>Job Code</th>\n",
       "      <th>Year Type</th>\n",
       "      <th>Year</th>\n",
       "      <th>Organization Group</th>\n",
       "      <th>Department Code</th>\n",
       "      <th>Department</th>\n",
       "      <th>Union Code</th>\n",
       "      <th>Union</th>\n",
       "      <th>...</th>\n",
       "      <th>Employee Identifier</th>\n",
       "      <th>Salaries</th>\n",
       "      <th>Overtime</th>\n",
       "      <th>Other Salaries</th>\n",
       "      <th>Total Salary</th>\n",
       "      <th>Retirement</th>\n",
       "      <th>Health and Dental</th>\n",
       "      <th>Other Benefits</th>\n",
       "      <th>Total Benefits</th>\n",
       "      <th>Total Compensation</th>\n",
       "    </tr>\n",
       "  </thead>\n",
       "  <tbody>\n",
       "    <tr>\n",
       "      <th>553552</th>\n",
       "      <td>7</td>\n",
       "      <td>8300</td>\n",
       "      <td>8300</td>\n",
       "      <td>Fiscal</td>\n",
       "      <td>2017</td>\n",
       "      <td>General City Responsibilities</td>\n",
       "      <td>NaN</td>\n",
       "      <td>NaN</td>\n",
       "      <td>790.0</td>\n",
       "      <td>SEIU, Local 1021, Misc</td>\n",
       "      <td>...</td>\n",
       "      <td>37042591</td>\n",
       "      <td>49630.50</td>\n",
       "      <td>15016.51</td>\n",
       "      <td>4575.73</td>\n",
       "      <td>67844.53</td>\n",
       "      <td>10619.27</td>\n",
       "      <td>12779.88</td>\n",
       "      <td>4796.56</td>\n",
       "      <td>28195.71</td>\n",
       "      <td>96040.24</td>\n",
       "    </tr>\n",
       "    <tr>\n",
       "      <th>553553</th>\n",
       "      <td>7</td>\n",
       "      <td>Q000</td>\n",
       "      <td>Q003</td>\n",
       "      <td>Fiscal</td>\n",
       "      <td>2017</td>\n",
       "      <td>General City Responsibilities</td>\n",
       "      <td>NaN</td>\n",
       "      <td>NaN</td>\n",
       "      <td>911.0</td>\n",
       "      <td>POA</td>\n",
       "      <td>...</td>\n",
       "      <td>37069439</td>\n",
       "      <td>116189.62</td>\n",
       "      <td>40990.09</td>\n",
       "      <td>2260.08</td>\n",
       "      <td>159439.79</td>\n",
       "      <td>20076.66</td>\n",
       "      <td>14515.01</td>\n",
       "      <td>2724.05</td>\n",
       "      <td>37315.72</td>\n",
       "      <td>196755.51</td>\n",
       "    </tr>\n",
       "  </tbody>\n",
       "</table>\n",
       "<p>2 rows × 22 columns</p>\n",
       "</div>"
      ],
      "text/plain": [
       "        Organization Group Code Job Family Code Job Code Year Type  Year  \\\n",
       "553552                        7            8300     8300    Fiscal  2017   \n",
       "553553                        7            Q000     Q003    Fiscal  2017   \n",
       "\n",
       "                   Organization Group Department Code Department  Union Code  \\\n",
       "553552  General City Responsibilities             NaN        NaN       790.0   \n",
       "553553  General City Responsibilities             NaN        NaN       911.0   \n",
       "\n",
       "                         Union  ... Employee Identifier   Salaries  Overtime  \\\n",
       "553552  SEIU, Local 1021, Misc  ...            37042591   49630.50  15016.51   \n",
       "553553                     POA  ...            37069439  116189.62  40990.09   \n",
       "\n",
       "        Other Salaries  Total Salary  Retirement  Health and Dental  \\\n",
       "553552         4575.73      67844.53    10619.27           12779.88   \n",
       "553553         2260.08     159439.79    20076.66           14515.01   \n",
       "\n",
       "        Other Benefits  Total Benefits  Total Compensation  \n",
       "553552         4796.56        28195.71            96040.24  \n",
       "553553         2724.05        37315.72           196755.51  \n",
       "\n",
       "[2 rows x 22 columns]"
      ]
     },
     "execution_count": 12,
     "metadata": {},
     "output_type": "execute_result"
    }
   ],
   "source": [
    "data[data['Department Code'].isnull()]"
   ]
  },
  {
   "cell_type": "code",
   "execution_count": 13,
   "metadata": {},
   "outputs": [],
   "source": [
    "# drop the column NaN\n"
   ]
  },
  {
   "cell_type": "code",
   "execution_count": 4,
   "metadata": {},
   "outputs": [],
   "source": [
    "data1=data.dropna()"
   ]
  },
  {
   "cell_type": "code",
   "execution_count": 5,
   "metadata": {},
   "outputs": [
    {
     "data": {
      "text/html": [
       "<div>\n",
       "<style scoped>\n",
       "    .dataframe tbody tr th:only-of-type {\n",
       "        vertical-align: middle;\n",
       "    }\n",
       "\n",
       "    .dataframe tbody tr th {\n",
       "        vertical-align: top;\n",
       "    }\n",
       "\n",
       "    .dataframe thead th {\n",
       "        text-align: right;\n",
       "    }\n",
       "</style>\n",
       "<table border=\"1\" class=\"dataframe\">\n",
       "  <thead>\n",
       "    <tr style=\"text-align: right;\">\n",
       "      <th></th>\n",
       "      <th>Organization Group Code</th>\n",
       "      <th>Job Family Code</th>\n",
       "      <th>Job Code</th>\n",
       "      <th>Year Type</th>\n",
       "      <th>Year</th>\n",
       "      <th>Organization Group</th>\n",
       "      <th>Department Code</th>\n",
       "      <th>Department</th>\n",
       "      <th>Union Code</th>\n",
       "      <th>Union</th>\n",
       "      <th>...</th>\n",
       "      <th>Employee Identifier</th>\n",
       "      <th>Salaries</th>\n",
       "      <th>Overtime</th>\n",
       "      <th>Other Salaries</th>\n",
       "      <th>Total Salary</th>\n",
       "      <th>Retirement</th>\n",
       "      <th>Health and Dental</th>\n",
       "      <th>Other Benefits</th>\n",
       "      <th>Total Benefits</th>\n",
       "      <th>Total Compensation</th>\n",
       "    </tr>\n",
       "  </thead>\n",
       "  <tbody>\n",
       "    <tr>\n",
       "      <th>0</th>\n",
       "      <td>1</td>\n",
       "      <td>1000</td>\n",
       "      <td>1021</td>\n",
       "      <td>Calendar</td>\n",
       "      <td>2013</td>\n",
       "      <td>Public Protection</td>\n",
       "      <td>ADP</td>\n",
       "      <td>ADP Adult Probation</td>\n",
       "      <td>21.0</td>\n",
       "      <td>Prof &amp; Tech Engineers - Miscellaneous, Local 21</td>\n",
       "      <td>...</td>\n",
       "      <td>37730</td>\n",
       "      <td>57534.65</td>\n",
       "      <td>0.0</td>\n",
       "      <td>0.00</td>\n",
       "      <td>57534.65</td>\n",
       "      <td>11253.16</td>\n",
       "      <td>11961.34</td>\n",
       "      <td>4532.63</td>\n",
       "      <td>27747.13</td>\n",
       "      <td>85281.78</td>\n",
       "    </tr>\n",
       "    <tr>\n",
       "      <th>1</th>\n",
       "      <td>1</td>\n",
       "      <td>1000</td>\n",
       "      <td>1023</td>\n",
       "      <td>Calendar</td>\n",
       "      <td>2013</td>\n",
       "      <td>Public Protection</td>\n",
       "      <td>ADP</td>\n",
       "      <td>ADP Adult Probation</td>\n",
       "      <td>21.0</td>\n",
       "      <td>Prof &amp; Tech Engineers - Miscellaneous, Local 21</td>\n",
       "      <td>...</td>\n",
       "      <td>26574</td>\n",
       "      <td>57678.50</td>\n",
       "      <td>0.0</td>\n",
       "      <td>0.00</td>\n",
       "      <td>57678.50</td>\n",
       "      <td>10284.88</td>\n",
       "      <td>7176.80</td>\n",
       "      <td>4755.14</td>\n",
       "      <td>22216.82</td>\n",
       "      <td>79895.32</td>\n",
       "    </tr>\n",
       "    <tr>\n",
       "      <th>2</th>\n",
       "      <td>1</td>\n",
       "      <td>1000</td>\n",
       "      <td>1031</td>\n",
       "      <td>Calendar</td>\n",
       "      <td>2013</td>\n",
       "      <td>Public Protection</td>\n",
       "      <td>ADP</td>\n",
       "      <td>ADP Adult Probation</td>\n",
       "      <td>21.0</td>\n",
       "      <td>Prof &amp; Tech Engineers - Miscellaneous, Local 21</td>\n",
       "      <td>...</td>\n",
       "      <td>8148</td>\n",
       "      <td>63532.93</td>\n",
       "      <td>0.0</td>\n",
       "      <td>0.00</td>\n",
       "      <td>63532.93</td>\n",
       "      <td>12495.83</td>\n",
       "      <td>12918.24</td>\n",
       "      <td>4702.71</td>\n",
       "      <td>30116.78</td>\n",
       "      <td>93649.71</td>\n",
       "    </tr>\n",
       "    <tr>\n",
       "      <th>3</th>\n",
       "      <td>1</td>\n",
       "      <td>1000</td>\n",
       "      <td>1054</td>\n",
       "      <td>Calendar</td>\n",
       "      <td>2013</td>\n",
       "      <td>Public Protection</td>\n",
       "      <td>ADP</td>\n",
       "      <td>ADP Adult Probation</td>\n",
       "      <td>21.0</td>\n",
       "      <td>Prof &amp; Tech Engineers - Miscellaneous, Local 21</td>\n",
       "      <td>...</td>\n",
       "      <td>27436</td>\n",
       "      <td>101274.51</td>\n",
       "      <td>0.0</td>\n",
       "      <td>-7058.59</td>\n",
       "      <td>94215.92</td>\n",
       "      <td>19644.45</td>\n",
       "      <td>12918.24</td>\n",
       "      <td>7458.76</td>\n",
       "      <td>40021.45</td>\n",
       "      <td>134237.37</td>\n",
       "    </tr>\n",
       "    <tr>\n",
       "      <th>4</th>\n",
       "      <td>1</td>\n",
       "      <td>1000</td>\n",
       "      <td>1062</td>\n",
       "      <td>Calendar</td>\n",
       "      <td>2013</td>\n",
       "      <td>Public Protection</td>\n",
       "      <td>ADP</td>\n",
       "      <td>ADP Adult Probation</td>\n",
       "      <td>21.0</td>\n",
       "      <td>Prof &amp; Tech Engineers - Miscellaneous, Local 21</td>\n",
       "      <td>...</td>\n",
       "      <td>37730</td>\n",
       "      <td>5084.00</td>\n",
       "      <td>0.0</td>\n",
       "      <td>0.00</td>\n",
       "      <td>5084.00</td>\n",
       "      <td>1083.90</td>\n",
       "      <td>956.91</td>\n",
       "      <td>387.50</td>\n",
       "      <td>2428.31</td>\n",
       "      <td>7512.31</td>\n",
       "    </tr>\n",
       "    <tr>\n",
       "      <th>...</th>\n",
       "      <td>...</td>\n",
       "      <td>...</td>\n",
       "      <td>...</td>\n",
       "      <td>...</td>\n",
       "      <td>...</td>\n",
       "      <td>...</td>\n",
       "      <td>...</td>\n",
       "      <td>...</td>\n",
       "      <td>...</td>\n",
       "      <td>...</td>\n",
       "      <td>...</td>\n",
       "      <td>...</td>\n",
       "      <td>...</td>\n",
       "      <td>...</td>\n",
       "      <td>...</td>\n",
       "      <td>...</td>\n",
       "      <td>...</td>\n",
       "      <td>...</td>\n",
       "      <td>...</td>\n",
       "      <td>...</td>\n",
       "      <td>...</td>\n",
       "    </tr>\n",
       "    <tr>\n",
       "      <th>683272</th>\n",
       "      <td>6</td>\n",
       "      <td>4300</td>\n",
       "      <td>4334</td>\n",
       "      <td>Fiscal</td>\n",
       "      <td>2020</td>\n",
       "      <td>General Administration &amp; Finance</td>\n",
       "      <td>TTX</td>\n",
       "      <td>Treasurer/Tax Collector</td>\n",
       "      <td>790.0</td>\n",
       "      <td>SEIU, Local 1021, Misc</td>\n",
       "      <td>...</td>\n",
       "      <td>43836214</td>\n",
       "      <td>98444.94</td>\n",
       "      <td>0.0</td>\n",
       "      <td>0.00</td>\n",
       "      <td>98444.94</td>\n",
       "      <td>20540.24</td>\n",
       "      <td>15275.18</td>\n",
       "      <td>8019.49</td>\n",
       "      <td>43834.91</td>\n",
       "      <td>142279.85</td>\n",
       "    </tr>\n",
       "    <tr>\n",
       "      <th>683273</th>\n",
       "      <td>6</td>\n",
       "      <td>4300</td>\n",
       "      <td>4334</td>\n",
       "      <td>Fiscal</td>\n",
       "      <td>2020</td>\n",
       "      <td>General Administration &amp; Finance</td>\n",
       "      <td>TTX</td>\n",
       "      <td>Treasurer/Tax Collector</td>\n",
       "      <td>790.0</td>\n",
       "      <td>SEIU, Local 1021, Misc</td>\n",
       "      <td>...</td>\n",
       "      <td>43966403</td>\n",
       "      <td>9416.71</td>\n",
       "      <td>0.0</td>\n",
       "      <td>0.00</td>\n",
       "      <td>9416.71</td>\n",
       "      <td>1904.43</td>\n",
       "      <td>1468.77</td>\n",
       "      <td>743.51</td>\n",
       "      <td>4116.71</td>\n",
       "      <td>13533.42</td>\n",
       "    </tr>\n",
       "    <tr>\n",
       "      <th>683274</th>\n",
       "      <td>6</td>\n",
       "      <td>4300</td>\n",
       "      <td>4334</td>\n",
       "      <td>Fiscal</td>\n",
       "      <td>2020</td>\n",
       "      <td>General Administration &amp; Finance</td>\n",
       "      <td>TTX</td>\n",
       "      <td>Treasurer/Tax Collector</td>\n",
       "      <td>790.0</td>\n",
       "      <td>SEIU, Local 1021, Misc</td>\n",
       "      <td>...</td>\n",
       "      <td>44016180</td>\n",
       "      <td>96475.00</td>\n",
       "      <td>0.0</td>\n",
       "      <td>576.00</td>\n",
       "      <td>97051.00</td>\n",
       "      <td>20241.56</td>\n",
       "      <td>14100.16</td>\n",
       "      <td>7897.00</td>\n",
       "      <td>42238.72</td>\n",
       "      <td>139289.72</td>\n",
       "    </tr>\n",
       "    <tr>\n",
       "      <th>683275</th>\n",
       "      <td>6</td>\n",
       "      <td>4300</td>\n",
       "      <td>4337</td>\n",
       "      <td>Fiscal</td>\n",
       "      <td>2020</td>\n",
       "      <td>General Administration &amp; Finance</td>\n",
       "      <td>TTX</td>\n",
       "      <td>Treasurer/Tax Collector</td>\n",
       "      <td>790.0</td>\n",
       "      <td>SEIU, Local 1021, Misc</td>\n",
       "      <td>...</td>\n",
       "      <td>42423439</td>\n",
       "      <td>115943.00</td>\n",
       "      <td>0.0</td>\n",
       "      <td>0.00</td>\n",
       "      <td>115943.00</td>\n",
       "      <td>24188.37</td>\n",
       "      <td>15275.18</td>\n",
       "      <td>9018.34</td>\n",
       "      <td>48481.89</td>\n",
       "      <td>164424.89</td>\n",
       "    </tr>\n",
       "    <tr>\n",
       "      <th>683276</th>\n",
       "      <td>6</td>\n",
       "      <td>4300</td>\n",
       "      <td>4337</td>\n",
       "      <td>Fiscal</td>\n",
       "      <td>2020</td>\n",
       "      <td>General Administration &amp; Finance</td>\n",
       "      <td>TTX</td>\n",
       "      <td>Treasurer/Tax Collector</td>\n",
       "      <td>790.0</td>\n",
       "      <td>SEIU, Local 1021, Misc</td>\n",
       "      <td>...</td>\n",
       "      <td>42439576</td>\n",
       "      <td>115943.00</td>\n",
       "      <td>504.9</td>\n",
       "      <td>0.00</td>\n",
       "      <td>116447.90</td>\n",
       "      <td>24188.37</td>\n",
       "      <td>15275.18</td>\n",
       "      <td>9516.61</td>\n",
       "      <td>48980.16</td>\n",
       "      <td>165428.06</td>\n",
       "    </tr>\n",
       "  </tbody>\n",
       "</table>\n",
       "<p>682919 rows × 22 columns</p>\n",
       "</div>"
      ],
      "text/plain": [
       "        Organization Group Code Job Family Code Job Code Year Type  Year  \\\n",
       "0                             1            1000     1021  Calendar  2013   \n",
       "1                             1            1000     1023  Calendar  2013   \n",
       "2                             1            1000     1031  Calendar  2013   \n",
       "3                             1            1000     1054  Calendar  2013   \n",
       "4                             1            1000     1062  Calendar  2013   \n",
       "...                         ...             ...      ...       ...   ...   \n",
       "683272                        6            4300     4334    Fiscal  2020   \n",
       "683273                        6            4300     4334    Fiscal  2020   \n",
       "683274                        6            4300     4334    Fiscal  2020   \n",
       "683275                        6            4300     4337    Fiscal  2020   \n",
       "683276                        6            4300     4337    Fiscal  2020   \n",
       "\n",
       "                      Organization Group Department Code  \\\n",
       "0                      Public Protection             ADP   \n",
       "1                      Public Protection             ADP   \n",
       "2                      Public Protection             ADP   \n",
       "3                      Public Protection             ADP   \n",
       "4                      Public Protection             ADP   \n",
       "...                                  ...             ...   \n",
       "683272  General Administration & Finance             TTX   \n",
       "683273  General Administration & Finance             TTX   \n",
       "683274  General Administration & Finance             TTX   \n",
       "683275  General Administration & Finance             TTX   \n",
       "683276  General Administration & Finance             TTX   \n",
       "\n",
       "                     Department  Union Code  \\\n",
       "0           ADP Adult Probation        21.0   \n",
       "1           ADP Adult Probation        21.0   \n",
       "2           ADP Adult Probation        21.0   \n",
       "3           ADP Adult Probation        21.0   \n",
       "4           ADP Adult Probation        21.0   \n",
       "...                         ...         ...   \n",
       "683272  Treasurer/Tax Collector       790.0   \n",
       "683273  Treasurer/Tax Collector       790.0   \n",
       "683274  Treasurer/Tax Collector       790.0   \n",
       "683275  Treasurer/Tax Collector       790.0   \n",
       "683276  Treasurer/Tax Collector       790.0   \n",
       "\n",
       "                                                  Union  ...  \\\n",
       "0       Prof & Tech Engineers - Miscellaneous, Local 21  ...   \n",
       "1       Prof & Tech Engineers - Miscellaneous, Local 21  ...   \n",
       "2       Prof & Tech Engineers - Miscellaneous, Local 21  ...   \n",
       "3       Prof & Tech Engineers - Miscellaneous, Local 21  ...   \n",
       "4       Prof & Tech Engineers - Miscellaneous, Local 21  ...   \n",
       "...                                                 ...  ...   \n",
       "683272                           SEIU, Local 1021, Misc  ...   \n",
       "683273                           SEIU, Local 1021, Misc  ...   \n",
       "683274                           SEIU, Local 1021, Misc  ...   \n",
       "683275                           SEIU, Local 1021, Misc  ...   \n",
       "683276                           SEIU, Local 1021, Misc  ...   \n",
       "\n",
       "       Employee Identifier   Salaries  Overtime  Other Salaries  Total Salary  \\\n",
       "0                    37730   57534.65       0.0            0.00      57534.65   \n",
       "1                    26574   57678.50       0.0            0.00      57678.50   \n",
       "2                     8148   63532.93       0.0            0.00      63532.93   \n",
       "3                    27436  101274.51       0.0        -7058.59      94215.92   \n",
       "4                    37730    5084.00       0.0            0.00       5084.00   \n",
       "...                    ...        ...       ...             ...           ...   \n",
       "683272            43836214   98444.94       0.0            0.00      98444.94   \n",
       "683273            43966403    9416.71       0.0            0.00       9416.71   \n",
       "683274            44016180   96475.00       0.0          576.00      97051.00   \n",
       "683275            42423439  115943.00       0.0            0.00     115943.00   \n",
       "683276            42439576  115943.00     504.9            0.00     116447.90   \n",
       "\n",
       "        Retirement  Health and Dental  Other Benefits  Total Benefits  \\\n",
       "0         11253.16           11961.34         4532.63        27747.13   \n",
       "1         10284.88            7176.80         4755.14        22216.82   \n",
       "2         12495.83           12918.24         4702.71        30116.78   \n",
       "3         19644.45           12918.24         7458.76        40021.45   \n",
       "4          1083.90             956.91          387.50         2428.31   \n",
       "...            ...                ...             ...             ...   \n",
       "683272    20540.24           15275.18         8019.49        43834.91   \n",
       "683273     1904.43            1468.77          743.51         4116.71   \n",
       "683274    20241.56           14100.16         7897.00        42238.72   \n",
       "683275    24188.37           15275.18         9018.34        48481.89   \n",
       "683276    24188.37           15275.18         9516.61        48980.16   \n",
       "\n",
       "        Total Compensation  \n",
       "0                 85281.78  \n",
       "1                 79895.32  \n",
       "2                 93649.71  \n",
       "3                134237.37  \n",
       "4                  7512.31  \n",
       "...                    ...  \n",
       "683272           142279.85  \n",
       "683273            13533.42  \n",
       "683274           139289.72  \n",
       "683275           164424.89  \n",
       "683276           165428.06  \n",
       "\n",
       "[682919 rows x 22 columns]"
      ]
     },
     "execution_count": 5,
     "metadata": {},
     "output_type": "execute_result"
    }
   ],
   "source": [
    "data1"
   ]
  },
  {
   "cell_type": "code",
   "execution_count": 16,
   "metadata": {},
   "outputs": [
    {
     "name": "stdout",
     "output_type": "stream",
     "text": [
      "(683277, 22)\n",
      "(682919, 22)\n"
     ]
    }
   ],
   "source": [
    "print (data.shape)\n",
    "print (data1.shape)"
   ]
  },
  {
   "cell_type": "code",
   "execution_count": 17,
   "metadata": {},
   "outputs": [
    {
     "name": "stdout",
     "output_type": "stream",
     "text": [
      "358\n"
     ]
    }
   ],
   "source": [
    "print (683277-682919)"
   ]
  },
  {
   "cell_type": "code",
   "execution_count": 18,
   "metadata": {},
   "outputs": [],
   "source": [
    "# now we have less 358 row\n"
   ]
  },
  {
   "cell_type": "code",
   "execution_count": 19,
   "metadata": {},
   "outputs": [
    {
     "name": "stdout",
     "output_type": "stream",
     "text": [
      "<class 'pandas.core.frame.DataFrame'>\n",
      "Int64Index: 682919 entries, 0 to 683276\n",
      "Data columns (total 22 columns):\n",
      " #   Column                   Non-Null Count   Dtype  \n",
      "---  ------                   --------------   -----  \n",
      " 0   Organization Group Code  682919 non-null  int64  \n",
      " 1   Job Family Code          682919 non-null  object \n",
      " 2   Job Code                 682919 non-null  object \n",
      " 3   Year Type                682919 non-null  object \n",
      " 4   Year                     682919 non-null  int64  \n",
      " 5   Organization Group       682919 non-null  object \n",
      " 6   Department Code          682919 non-null  object \n",
      " 7   Department               682919 non-null  object \n",
      " 8   Union Code               682919 non-null  float64\n",
      " 9   Union                    682919 non-null  object \n",
      " 10  Job Family               682919 non-null  object \n",
      " 11  Job                      682919 non-null  object \n",
      " 12  Employee Identifier      682919 non-null  int64  \n",
      " 13  Salaries                 682919 non-null  float64\n",
      " 14  Overtime                 682919 non-null  float64\n",
      " 15  Other Salaries           682919 non-null  float64\n",
      " 16  Total Salary             682919 non-null  float64\n",
      " 17  Retirement               682919 non-null  float64\n",
      " 18  Health and Dental        682919 non-null  float64\n",
      " 19  Other Benefits           682919 non-null  float64\n",
      " 20  Total Benefits           682919 non-null  float64\n",
      " 21  Total Compensation       682919 non-null  float64\n",
      "dtypes: float64(10), int64(3), object(9)\n",
      "memory usage: 119.8+ MB\n"
     ]
    }
   ],
   "source": [
    "# see the info about my new data\n",
    "data1.info()"
   ]
  },
  {
   "cell_type": "code",
   "execution_count": 20,
   "metadata": {},
   "outputs": [
    {
     "data": {
      "text/plain": [
       "Organization Group Code    0\n",
       "Job Family Code            0\n",
       "Job Code                   0\n",
       "Year Type                  0\n",
       "Year                       0\n",
       "Organization Group         0\n",
       "Department Code            0\n",
       "Department                 0\n",
       "Union Code                 0\n",
       "Union                      0\n",
       "Job Family                 0\n",
       "Job                        0\n",
       "Employee Identifier        0\n",
       "Salaries                   0\n",
       "Overtime                   0\n",
       "Other Salaries             0\n",
       "Total Salary               0\n",
       "Retirement                 0\n",
       "Health and Dental          0\n",
       "Other Benefits             0\n",
       "Total Benefits             0\n",
       "Total Compensation         0\n",
       "dtype: int64"
      ]
     },
     "execution_count": 20,
     "metadata": {},
     "output_type": "execute_result"
    }
   ],
   "source": [
    "data1.isnull().sum()"
   ]
  },
  {
   "cell_type": "code",
   "execution_count": 21,
   "metadata": {},
   "outputs": [],
   "source": [
    "# as we can se, now we do not have a null value "
   ]
  },
  {
   "cell_type": "code",
   "execution_count": 22,
   "metadata": {},
   "outputs": [
    {
     "name": "stdout",
     "output_type": "stream",
     "text": [
      "column Organization Group Code  has : 7 Unique values\n",
      "column Job Family Code  has : 59 Unique values\n",
      "column Job Code  has : 1210 Unique values\n",
      "column Year Type  has : 2 Unique values\n",
      "column Year  has : 8 Unique values\n",
      "column Organization Group  has : 7 Unique values\n",
      "column Department Code  has : 60 Unique values\n",
      "column Department  has : 109 Unique values\n",
      "column Union Code  has : 70 Unique values\n",
      "column Union  has : 129 Unique values\n",
      "column Job Family  has : 59 Unique values\n",
      "column Job  has : 1348 Unique values\n",
      "column Employee Identifier  has : 309658 Unique values\n",
      "column Salaries  has : 498267 Unique values\n",
      "column Overtime  has : 261976 Unique values\n",
      "column Other Salaries  has : 307729 Unique values\n",
      "column Total Salary  has : 614930 Unique values\n",
      "column Retirement  has : 451568 Unique values\n",
      "column Health and Dental  has : 209844 Unique values\n",
      "column Other Benefits  has : 496051 Unique values\n",
      "column Total Benefits  has : 616180 Unique values\n",
      "column Total Compensation  has : 658354 Unique values\n"
     ]
    }
   ],
   "source": [
    "# see the unique value for each column \n",
    "col_name=data1.columns\n",
    "for i in col_name:\n",
    "    print('column',i,' has :',data1[i].nunique(),\"Unique values\")"
   ]
  },
  {
   "cell_type": "code",
   "execution_count": 23,
   "metadata": {},
   "outputs": [
    {
     "data": {
      "text/plain": [
       "array(['IS Administrator 1', 'IS Administrator 3', 'IS Trainer-Assistant',\n",
       "       ..., 'Customer Service Rep Trainee', 'Customer Service Rep Spv',\n",
       "       'Mayoral Staff I'], dtype=object)"
      ]
     },
     "execution_count": 23,
     "metadata": {},
     "output_type": "execute_result"
    }
   ],
   "source": [
    "data1.Job.unique()"
   ]
  },
  {
   "cell_type": "code",
   "execution_count": 24,
   "metadata": {},
   "outputs": [
    {
     "data": {
      "text/plain": [
       "Index(['Organization Group Code', 'Job Family Code', 'Job Code', 'Year Type',\n",
       "       'Year', 'Organization Group', 'Department Code', 'Department',\n",
       "       'Union Code', 'Union', 'Job Family', 'Job', 'Employee Identifier',\n",
       "       'Salaries', 'Overtime', 'Other Salaries', 'Total Salary', 'Retirement',\n",
       "       'Health and Dental', 'Other Benefits', 'Total Benefits',\n",
       "       'Total Compensation'],\n",
       "      dtype='object')"
      ]
     },
     "execution_count": 24,
     "metadata": {},
     "output_type": "execute_result"
    }
   ],
   "source": [
    "data1.columns"
   ]
  },
  {
   "cell_type": "code",
   "execution_count": 25,
   "metadata": {},
   "outputs": [],
   "source": [
    "# let's create a count plot. and for data i will create a featues variable and eliminate all variable with more than 100 unique \n",
    "# value"
   ]
  },
  {
   "cell_type": "code",
   "execution_count": null,
   "metadata": {},
   "outputs": [],
   "source": []
  },
  {
   "cell_type": "code",
   "execution_count": null,
   "metadata": {},
   "outputs": [],
   "source": []
  },
  {
   "cell_type": "code",
   "execution_count": 28,
   "metadata": {},
   "outputs": [
    {
     "data": {
      "text/plain": [
       "Organization Group Code      int64\n",
       "Job Family Code             object\n",
       "Job Code                    object\n",
       "Year Type                   object\n",
       "Year                         int64\n",
       "Organization Group          object\n",
       "Department Code             object\n",
       "Department                  object\n",
       "Union Code                 float64\n",
       "Union                       object\n",
       "Job Family                  object\n",
       "Job                         object\n",
       "Employee Identifier          int64\n",
       "Salaries                   float64\n",
       "Overtime                   float64\n",
       "Other Salaries             float64\n",
       "Total Salary               float64\n",
       "Retirement                 float64\n",
       "Health and Dental          float64\n",
       "Other Benefits             float64\n",
       "Total Benefits             float64\n",
       "Total Compensation         float64\n",
       "dtype: object"
      ]
     },
     "execution_count": 28,
     "metadata": {},
     "output_type": "execute_result"
    }
   ],
   "source": [
    "data1.dtypes"
   ]
  },
  {
   "cell_type": "markdown",
   "metadata": {},
   "source": [
    "features=['Job Family Code', 'Job Code', 'Year Type',\n",
    "       'Organization Group', 'Department Code', 'Department',\n",
    "       'Union', 'Job Family', 'Job']"
   ]
  },
  {
   "cell_type": "code",
   "execution_count": 29,
   "metadata": {},
   "outputs": [],
   "source": [
    "# convert the categorical data into numerical representation data"
   ]
  },
  {
   "cell_type": "markdown",
   "metadata": {},
   "source": [
    "\n",
    "row_data=data1[features]\n",
    "print(row_data.shape)\n",
    "new_row_data=pd.get_dummies(row_data,columns=features)\n",
    "print(new_row_data.shape)"
   ]
  },
  {
   "cell_type": "markdown",
   "metadata": {},
   "source": [
    "# What all parameters do we need to give to our clustering algorithm?"
   ]
  },
  {
   "cell_type": "markdown",
   "metadata": {},
   "source": [
    "We need parameters which will have impact in our analysis\n",
    "so for this clustering algorithm, I will choose 4 parameters that are:\n",
    "#Salaries 'Overtime', 'Other Salaries', 'Retirement','Health and Dental', 'Other Benefits']]\n",
    "\n",
    "As we can see in the describe problem: Normal salaries paid to permanent or temporary City employee, so we have.\n",
    "to include it because is important for analysis.\n",
    "Overtime is the fact, a kind of salary, but I include it in our analyses because we have employees who were temporary.\n",
    "or not work 40h. those employees are not included in the overtime category.\n",
    "Other Salaries like the problem describe it mayiclude SC, irregular payments made to City employees, including premium pay,"
   ]
  },
  {
   "cell_type": "markdown",
   "metadata": {},
   "source": [
    "# drop all variable that we do not need"
   ]
  },
  {
   "cell_type": "code",
   "execution_count": 30,
   "metadata": {},
   "outputs": [
    {
     "name": "stdout",
     "output_type": "stream",
     "text": [
      "<class 'pandas.core.frame.DataFrame'>\n",
      "Int64Index: 682919 entries, 0 to 683276\n",
      "Data columns (total 22 columns):\n",
      " #   Column                   Non-Null Count   Dtype  \n",
      "---  ------                   --------------   -----  \n",
      " 0   Organization Group Code  682919 non-null  int64  \n",
      " 1   Job Family Code          682919 non-null  object \n",
      " 2   Job Code                 682919 non-null  object \n",
      " 3   Year Type                682919 non-null  object \n",
      " 4   Year                     682919 non-null  int64  \n",
      " 5   Organization Group       682919 non-null  object \n",
      " 6   Department Code          682919 non-null  object \n",
      " 7   Department               682919 non-null  object \n",
      " 8   Union Code               682919 non-null  float64\n",
      " 9   Union                    682919 non-null  object \n",
      " 10  Job Family               682919 non-null  object \n",
      " 11  Job                      682919 non-null  object \n",
      " 12  Employee Identifier      682919 non-null  int64  \n",
      " 13  Salaries                 682919 non-null  float64\n",
      " 14  Overtime                 682919 non-null  float64\n",
      " 15  Other Salaries           682919 non-null  float64\n",
      " 16  Total Salary             682919 non-null  float64\n",
      " 17  Retirement               682919 non-null  float64\n",
      " 18  Health and Dental        682919 non-null  float64\n",
      " 19  Other Benefits           682919 non-null  float64\n",
      " 20  Total Benefits           682919 non-null  float64\n",
      " 21  Total Compensation       682919 non-null  float64\n",
      "dtypes: float64(10), int64(3), object(9)\n",
      "memory usage: 119.8+ MB\n"
     ]
    }
   ],
   "source": [
    "data1.info()"
   ]
  },
  {
   "cell_type": "code",
   "execution_count": 6,
   "metadata": {},
   "outputs": [],
   "source": [
    "features_to_drop=['Organization Group Code','Job Family Code','Job Code','Year Type','Organization Group','Department Code',\n",
    "                  'Department','Union','Job Family','Job',\n",
    "       'Year','Union Code','Employee Identifier', 'Total Salary', 'Total Benefits',\n",
    "       'Total Compensation']"
   ]
  },
  {
   "cell_type": "code",
   "execution_count": 7,
   "metadata": {},
   "outputs": [],
   "source": [
    "final_data=data1.drop(features_to_drop,axis=1)"
   ]
  },
  {
   "cell_type": "code",
   "execution_count": 8,
   "metadata": {},
   "outputs": [
    {
     "name": "stdout",
     "output_type": "stream",
     "text": [
      "<class 'pandas.core.frame.DataFrame'>\n",
      "Int64Index: 682919 entries, 0 to 683276\n",
      "Data columns (total 6 columns):\n",
      " #   Column             Non-Null Count   Dtype  \n",
      "---  ------             --------------   -----  \n",
      " 0   Salaries           682919 non-null  float64\n",
      " 1   Overtime           682919 non-null  float64\n",
      " 2   Other Salaries     682919 non-null  float64\n",
      " 3   Retirement         682919 non-null  float64\n",
      " 4   Health and Dental  682919 non-null  float64\n",
      " 5   Other Benefits     682919 non-null  float64\n",
      "dtypes: float64(6)\n",
      "memory usage: 36.5 MB\n"
     ]
    }
   ],
   "source": [
    "final_data.info()"
   ]
  },
  {
   "cell_type": "markdown",
   "metadata": {},
   "source": [
    "AS we can see, now I have just those variable that I will work with in my data analyses"
   ]
  },
  {
   "cell_type": "code",
   "execution_count": 34,
   "metadata": {},
   "outputs": [
    {
     "name": "stderr",
     "output_type": "stream",
     "text": [
      "C:\\Users\\marce\\anaconda3\\lib\\site-packages\\seaborn\\distributions.py:2551: FutureWarning: `distplot` is a deprecated function and will be removed in a future version. Please adapt your code to use either `displot` (a figure-level function with similar flexibility) or `histplot` (an axes-level function for histograms).\n",
      "  warnings.warn(msg, FutureWarning)\n"
     ]
    },
    {
     "data": {
      "image/png": "[encoded data removed]",
      "text/plain": [
       "<Figure size 432x288 with 1 Axes>"
      ]
     },
     "metadata": {
      "needs_background": "light"
     },
     "output_type": "display_data"
    }
   ],
   "source": [
    "sns.distplot(data1['Health and Dental'])\n",
    "plt.show()"
   ]
  },
  {
   "cell_type": "code",
   "execution_count": null,
   "metadata": {},
   "outputs": [],
   "source": []
  },
  {
   "cell_type": "markdown",
   "metadata": {},
   "source": [
    "Skewness is a measure of symmetry, or, more precisely, the lack of symmetry. A distribution, or data set is symmetric if it looks the same to the left and right of the center point.\n",
    "\n",
    "Kurtosis is a measure of whether the data are heavy-tailed or light-tailed relative to a normal distribution. That is, data sets with high kurtosis tend to have heavy tails, or outliers. Data sets with low kurtosis tend to have light tails, or lack of outliers. A uniform distribution would be the extreme case.\n",
    "\n",
    "==============================================================\n",
    "\n",
    "https://www.itl.nist.gov/div898/handbook/eda/section3/eda35b.htm#:~:text=Skewness%20is%20a%20measure%20of,precisely%2C%20the%20lack%20of%20symmetry.&text=Kurtosis%20is%20a%20measure%20of,have%20heavy%20tails%2C%20or%20outliers."
   ]
  },
  {
   "cell_type": "code",
   "execution_count": 35,
   "metadata": {},
   "outputs": [
    {
     "name": "stdout",
     "output_type": "stream",
     "text": [
      "Skewness: 0.575171\n",
      "Kurtosis: 0.711238\n"
     ]
    }
   ],
   "source": [
    "print(\"Skewness: %f\" % data1['Salaries'].skew())\n",
    "print(\"Kurtosis: %f\" % data1['Salaries'].kurt())\n"
   ]
  },
  {
   "cell_type": "code",
   "execution_count": 36,
   "metadata": {},
   "outputs": [
    {
     "data": {
      "text/plain": [
       "<AxesSubplot:ylabel='count'>"
      ]
     },
     "execution_count": 36,
     "metadata": {},
     "output_type": "execute_result"
    },
    {
     "data": {
      "image/png": "[encoded data removed]",
      "text/plain": [
       "<Figure size 864x360 with 1 Axes>"
      ]
     },
     "metadata": {
      "needs_background": "light"
     },
     "output_type": "display_data"
    }
   ],
   "source": [
    "# let's see the range salary , overtime and all others informatiom for those variable that i considered by ploting the bar plot\n",
    "fig_dims = (12, 5)\n",
    "fig, ax = plt.subplots(figsize=fig_dims)\n",
    "sns.countplot(data=final_data)"
   ]
  },
  {
   "cell_type": "code",
   "execution_count": null,
   "metadata": {},
   "outputs": [],
   "source": [
    "# see the relactinship with may be the predict variable\n",
    "\n",
    "#=========\n",
    "\n",
    "g=sns.PairGrid( final_data,\n",
    "               vars=['Salaries','Overtime','Other Salaries','Retirement','Health and Dental','Other Benefits'],\n",
    "    \n",
    "               diag_sharey=False,\n",
    "               palette=['red','green','blue'])\n",
    "\n",
    "# adds hist on the diagonal \n",
    "g.map_diag(plt.hist)\n",
    "\n",
    "# adds density plots above the diagonal\n",
    "\n",
    "g.map_upper(sns.kdeplot)\n",
    "\n",
    "\n",
    "# adds scatterplots below  the diagonal \n",
    "\n",
    "g.map_lower(sns.scatterplot)\n",
    "\n",
    "# adds legend \n",
    " \n",
    "g.add_legend()\n",
    "\n"
   ]
  },
  {
   "cell_type": "code",
   "execution_count": 10,
   "metadata": {},
   "outputs": [],
   "source": [
    "from sklearn.cluster import KMeans"
   ]
  },
  {
   "cell_type": "code",
   "execution_count": 11,
   "metadata": {},
   "outputs": [
    {
     "data": {
      "text/plain": [
       "KMeans(n_clusters=5)"
      ]
     },
     "execution_count": 11,
     "metadata": {},
     "output_type": "execute_result"
    }
   ],
   "source": [
    "kmeans=KMeans(n_clusters=5)\n",
    "kmeans"
   ]
  },
  {
   "cell_type": "code",
   "execution_count": null,
   "metadata": {},
   "outputs": [],
   "source": []
  },
  {
   "cell_type": "markdown",
   "metadata": {},
   "source": [
    "# fit the data to a clustering model."
   ]
  },
  {
   "cell_type": "code",
   "execution_count": 12,
   "metadata": {},
   "outputs": [],
   "source": [
    "y_predict=kmeans.fit_predict(data1[[ 'Salaries', 'Overtime', 'Other Salaries', 'Retirement',\n",
    "       'Health and Dental', 'Other Benefits']])"
   ]
  },
  {
   "cell_type": "code",
   "execution_count": 156,
   "metadata": {},
   "outputs": [
    {
     "name": "stdout",
     "output_type": "stream",
     "text": [
      "[[ 13535.36151816    479.19048486   1477.52507742   1927.75771\n",
      "    2533.33427672   1177.9185872 ]\n",
      " [ 65784.39464152   4734.0113933    2960.94593746  13315.69200009\n",
      "   12135.1059227    5572.72964133]\n",
      " [173685.88338076   3600.73197213   7062.74348667  33586.06194183\n",
      "   14908.24606738  10536.85928454]\n",
      " [110561.45583532   4475.74036595   5475.20624446  21804.02715952\n",
      "   13557.5571203    7570.55765151]\n",
      " [115602.6632396   52056.8258633   13545.52861826  24769.4137459\n",
      "   14939.95176696   5455.60490583]]\n"
     ]
    }
   ],
   "source": [
    "print(kmeans.cluster_centers_)"
   ]
  },
  {
   "cell_type": "code",
   "execution_count": 13,
   "metadata": {},
   "outputs": [
    {
     "name": "stdout",
     "output_type": "stream",
     "text": [
      "[3 3 3 ... 2 2 2]\n"
     ]
    }
   ],
   "source": [
    "y=kmeans.labels_\n",
    "print(y)"
   ]
  },
  {
   "cell_type": "code",
   "execution_count": 14,
   "metadata": {},
   "outputs": [
    {
     "data": {
      "image/png": "[encoded data removed]",
      "text/plain": [
       "<Figure size 432x288 with 1 Axes>"
      ]
     },
     "metadata": {
      "needs_background": "light"
     },
     "output_type": "display_data"
    }
   ],
   "source": [
    "sns.countplot(x=kmeans.labels_, palette='Oranges')\n",
    "plt.show()"
   ]
  },
  {
   "cell_type": "code",
   "execution_count": 158,
   "metadata": {},
   "outputs": [
    {
     "name": "stdout",
     "output_type": "stream",
     "text": [
      "[1 1 1 ... 3 3 3]\n"
     ]
    }
   ],
   "source": [
    "print(y_predict)"
   ]
  },
  {
   "cell_type": "code",
   "execution_count": 15,
   "metadata": {},
   "outputs": [
    {
     "data": {
      "text/plain": [
       "<matplotlib.collections.PathCollection at 0x18180d8b400>"
      ]
     },
     "execution_count": 15,
     "metadata": {},
     "output_type": "execute_result"
    },
    {
     "data": {
      "image/png": "[encoded data removed]",
      "text/plain": [
       "<Figure size 432x288 with 1 Axes>"
      ]
     },
     "metadata": {
      "needs_background": "light"
     },
     "output_type": "display_data"
    }
   ],
   "source": [
    "centers = np.array(kmeans.cluster_centers_)\n",
    "plt.scatter(centers[:,0], centers[:,1], marker=\"x\", color='k')"
   ]
  },
  {
   "cell_type": "code",
   "execution_count": 16,
   "metadata": {},
   "outputs": [
    {
     "data": {
      "image/png": "[encoded data removed]",
      "text/plain": [
       "<Figure size 432x288 with 1 Axes>"
      ]
     },
     "metadata": {
      "needs_background": "light"
     },
     "output_type": "display_data"
    }
   ],
   "source": [
    "plt.scatter(final_data.iloc[:,0].values,final_data.iloc[:,3].values, c=kmeans.labels_, cmap=\"rainbow\")\n",
    "plt.show()"
   ]
  },
  {
   "cell_type": "code",
   "execution_count": null,
   "metadata": {},
   "outputs": [],
   "source": [
    "plt.scatter(final_data.iloc[:,0].values,final_data.iloc[:,3].values, c=kmeans.labels_, cmap=\"rainbow\")\n",
    "centers = np.array(kmeans.cluster_centers_)\n",
    "plt.scatter(centers[:,0], centers[:,1], marker=\"X\", color='k')\n",
    "plt.show()"
   ]
  },
  {
   "cell_type": "markdown",
   "metadata": {},
   "source": [
    "# Find the number of clusters for the data."
   ]
  },
  {
   "cell_type": "code",
   "execution_count": null,
   "metadata": {},
   "outputs": [],
   "source": [
    "# for find the number of clusters i will use the Elbow method "
   ]
  },
  {
   "cell_type": "code",
   "execution_count": 20,
   "metadata": {},
   "outputs": [],
   "source": [
    "from scipy.spatial.distance import cdist, pdist\n",
    "from sklearn.cluster import KMeans"
   ]
  },
  {
   "cell_type": "code",
   "execution_count": 30,
   "metadata": {},
   "outputs": [],
   "source": [
    "K = range(1,10)\n",
    "X = final_data\n",
    "KM = [KMeans(n_clusters=k).fit(X) for k in K]\n",
    "centroids = [k.cluster_centers_ for k in KM]\n",
    "D_k = [cdist(X, cent, 'euclidean') for cent in centroids]\n",
    "cIdx = [np.argmin(D,axis=1) for D in D_k]\n",
    "dist = [np.min(D,axis=1) for D in D_k]\n",
    "avgWithinSS = [sum(d)/X.shape[0] for d in dist]\n",
    "\n"
   ]
  },
  {
   "cell_type": "code",
   "execution_count": 31,
   "metadata": {},
   "outputs": [
    {
     "ename": "MemoryError",
     "evalue": "Unable to allocate 1.70 TiB for an array with shape (233188838821,) and data type float64",
     "output_type": "error",
     "traceback": [
      "\u001b[1;31m---------------------------------------------------------------------------\u001b[0m",
      "\u001b[1;31mMemoryError\u001b[0m                               Traceback (most recent call last)",
      "\u001b[1;32m<ipython-input-31-dc26aca4cdc8>\u001b[0m in \u001b[0;36m<module>\u001b[1;34m\u001b[0m\n\u001b[0;32m      1\u001b[0m \u001b[1;31m# Total with-in sum of square\u001b[0m\u001b[1;33m\u001b[0m\u001b[1;33m\u001b[0m\u001b[1;33m\u001b[0m\u001b[0m\n\u001b[0;32m      2\u001b[0m \u001b[0mwcss\u001b[0m \u001b[1;33m=\u001b[0m \u001b[1;33m[\u001b[0m\u001b[0msum\u001b[0m\u001b[1;33m(\u001b[0m\u001b[0md\u001b[0m\u001b[1;33m**\u001b[0m\u001b[1;36m2\u001b[0m\u001b[1;33m)\u001b[0m \u001b[1;32mfor\u001b[0m \u001b[0md\u001b[0m \u001b[1;32min\u001b[0m \u001b[0mdist\u001b[0m\u001b[1;33m]\u001b[0m\u001b[1;33m\u001b[0m\u001b[1;33m\u001b[0m\u001b[0m\n\u001b[1;32m----> 3\u001b[1;33m \u001b[0mtss\u001b[0m \u001b[1;33m=\u001b[0m \u001b[0msum\u001b[0m\u001b[1;33m(\u001b[0m\u001b[0mpdist\u001b[0m\u001b[1;33m(\u001b[0m\u001b[0mX\u001b[0m\u001b[1;33m)\u001b[0m\u001b[1;33m**\u001b[0m\u001b[1;36m2\u001b[0m\u001b[1;33m)\u001b[0m\u001b[1;33m/\u001b[0m\u001b[0mX\u001b[0m\u001b[1;33m.\u001b[0m\u001b[0mshape\u001b[0m\u001b[1;33m[\u001b[0m\u001b[1;36m0\u001b[0m\u001b[1;33m]\u001b[0m\u001b[1;33m\u001b[0m\u001b[1;33m\u001b[0m\u001b[0m\n\u001b[0m\u001b[0;32m      4\u001b[0m \u001b[0mbss\u001b[0m \u001b[1;33m=\u001b[0m \u001b[0mtss\u001b[0m\u001b[1;33m-\u001b[0m\u001b[0mwcss\u001b[0m\u001b[1;33m\u001b[0m\u001b[1;33m\u001b[0m\u001b[0m\n\u001b[0;32m      5\u001b[0m \u001b[0mvarExplained\u001b[0m \u001b[1;33m=\u001b[0m \u001b[0mbss\u001b[0m\u001b[1;33m/\u001b[0m\u001b[0mtss\u001b[0m\u001b[1;33m*\u001b[0m\u001b[1;36m100\u001b[0m\u001b[1;33m\u001b[0m\u001b[1;33m\u001b[0m\u001b[0m\n",
      "\u001b[1;32m~\\anaconda3\\lib\\site-packages\\scipy\\spatial\\distance.py\u001b[0m in \u001b[0;36mpdist\u001b[1;34m(X, metric, *args, **kwargs)\u001b[0m\n\u001b[0;32m   1993\u001b[0m     \u001b[0mout\u001b[0m \u001b[1;33m=\u001b[0m \u001b[0mkwargs\u001b[0m\u001b[1;33m.\u001b[0m\u001b[0mpop\u001b[0m\u001b[1;33m(\u001b[0m\u001b[1;34m\"out\"\u001b[0m\u001b[1;33m,\u001b[0m \u001b[1;32mNone\u001b[0m\u001b[1;33m)\u001b[0m\u001b[1;33m\u001b[0m\u001b[1;33m\u001b[0m\u001b[0m\n\u001b[0;32m   1994\u001b[0m     \u001b[1;32mif\u001b[0m \u001b[0mout\u001b[0m \u001b[1;32mis\u001b[0m \u001b[1;32mNone\u001b[0m\u001b[1;33m:\u001b[0m\u001b[1;33m\u001b[0m\u001b[1;33m\u001b[0m\u001b[0m\n\u001b[1;32m-> 1995\u001b[1;33m         \u001b[0mdm\u001b[0m \u001b[1;33m=\u001b[0m \u001b[0mnp\u001b[0m\u001b[1;33m.\u001b[0m\u001b[0mempty\u001b[0m\u001b[1;33m(\u001b[0m\u001b[1;33m(\u001b[0m\u001b[0mm\u001b[0m \u001b[1;33m*\u001b[0m \u001b[1;33m(\u001b[0m\u001b[0mm\u001b[0m \u001b[1;33m-\u001b[0m \u001b[1;36m1\u001b[0m\u001b[1;33m)\u001b[0m\u001b[1;33m)\u001b[0m \u001b[1;33m//\u001b[0m \u001b[1;36m2\u001b[0m\u001b[1;33m,\u001b[0m \u001b[0mdtype\u001b[0m\u001b[1;33m=\u001b[0m\u001b[0mnp\u001b[0m\u001b[1;33m.\u001b[0m\u001b[0mdouble\u001b[0m\u001b[1;33m)\u001b[0m\u001b[1;33m\u001b[0m\u001b[1;33m\u001b[0m\u001b[0m\n\u001b[0m\u001b[0;32m   1996\u001b[0m     \u001b[1;32melse\u001b[0m\u001b[1;33m:\u001b[0m\u001b[1;33m\u001b[0m\u001b[1;33m\u001b[0m\u001b[0m\n\u001b[0;32m   1997\u001b[0m         \u001b[1;32mif\u001b[0m \u001b[0mout\u001b[0m\u001b[1;33m.\u001b[0m\u001b[0mshape\u001b[0m \u001b[1;33m!=\u001b[0m \u001b[1;33m(\u001b[0m\u001b[0mm\u001b[0m \u001b[1;33m*\u001b[0m \u001b[1;33m(\u001b[0m\u001b[0mm\u001b[0m \u001b[1;33m-\u001b[0m \u001b[1;36m1\u001b[0m\u001b[1;33m)\u001b[0m \u001b[1;33m//\u001b[0m \u001b[1;36m2\u001b[0m\u001b[1;33m,\u001b[0m\u001b[1;33m)\u001b[0m\u001b[1;33m:\u001b[0m\u001b[1;33m\u001b[0m\u001b[1;33m\u001b[0m\u001b[0m\n",
      "\u001b[1;31mMemoryError\u001b[0m: Unable to allocate 1.70 TiB for an array with shape (233188838821,) and data type float64"
     ]
    }
   ],
   "source": [
    "# Total with-in sum of square\n",
    "wcss = [sum(d**2) for d in dist]\n",
    "tss = sum(pdist(X)**2)/X.shape[0]\n",
    "bss = tss-wcss\n",
    "varExplained = bss/tss*100"
   ]
  },
  {
   "cell_type": "code",
   "execution_count": null,
   "metadata": {},
   "outputs": [],
   "source": [
    "kIdx = 10-1"
   ]
  },
  {
   "cell_type": "code",
   "execution_count": null,
   "metadata": {},
   "outputs": [],
   "source": [
    "##### plot ###\n",
    "kIdx = 2\n",
    "# elbow curve\n",
    "# Set the size of the plot\n",
    "plt.figure(figsize=(10,4))\n",
    "plt.subplot(1, 2, 1)\n",
    "plt.plot(K, avgWithinSS, 'b*-')\n",
    "plt.plot(K[kIdx], avgWithinSS[kIdx], marker='o', markersize=12,\n",
    "markeredgewidth=2, markeredgecolor='r', markerfacecolor='None')\n",
    "plt.grid(True)\n",
    "plt.xlabel('Number of clusters')\n",
    "plt.ylabel('Average within-cluster sum of squares')\n",
    "plt.title('Elbow for KMeans clustering')\n",
    "plt.subplot(1, 2, 2)\n",
    "plt.plot(K, varExplained, 'b*-')\n",
    "plt.plot(K[kIdx], varExplained[kIdx], marker='o', markersize=12,\n",
    "markeredgewidth=2, markeredgecolor='r', markerfacecolor='None')\n",
    "plt.grid(True)\n",
    "plt.xlabel('Number of clusters')\n",
    "plt.ylabel('Percentage of variance explained')\n",
    "plt.title('Elbow for KMeans clustering')\n",
    "plt.tight_layout()"
   ]
  },
  {
   "cell_type": "code",
   "execution_count": null,
   "metadata": {},
   "outputs": [],
   "source": []
  },
  {
   "cell_type": "code",
   "execution_count": null,
   "metadata": {},
   "outputs": [],
   "source": []
  }
 ],
 "metadata": {
  "kernelspec": {
   "display_name": "Python 3",
   "language": "python",
   "name": "python3"
  },
  "language_info": {
   "codemirror_mode": {
    "name": "ipython",
    "version": 3
   },
   "file_extension": ".py",
   "mimetype": "text/x-python",
   "name": "python",
   "nbconvert_exporter": "python",
   "pygments_lexer": "ipython3",
   "version": "3.8.5"
  }
 },
 "nbformat": 4,
 "nbformat_minor": 4
}
